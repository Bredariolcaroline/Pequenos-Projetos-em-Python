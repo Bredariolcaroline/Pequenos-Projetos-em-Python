{
 "cells": [
  {
   "cell_type": "code",
   "execution_count": 3,
   "id": "f9d80db2",
   "metadata": {},
   "outputs": [
    {
     "name": "stdout",
     "output_type": "stream",
     "text": [
      "[2, 3, 5, 7, 11, 13, 17, 19, 23, 29]\n",
      "Wall time: 1.01 ms\n"
     ]
    }
   ],
   "source": [
    "%%time\n",
    "\n",
    "primos = []\n",
    "\n",
    "for num in range(2,31):\n",
    "    eh_primo = True\n",
    "    \n",
    "    i = 2\n",
    "    \n",
    "    while i <= num //2:\n",
    "        if num % i ==0:\n",
    "            eh_primo = False\n",
    "            break\n",
    "        i +=1\n",
    "        \n",
    "    if eh_primo:\n",
    "        primos.append(num)\n",
    "\n",
    "print(primos)"
   ]
  },
  {
   "cell_type": "code",
   "execution_count": 4,
   "id": "6c9703ff",
   "metadata": {},
   "outputs": [
    {
     "name": "stdout",
     "output_type": "stream",
     "text": [
      "2 é um número primo\n",
      "3 é um número primo\n",
      "5 é um número primo\n",
      "7 é um número primo\n",
      "11 é um número primo\n",
      "13 é um número primo\n",
      "17 é um número primo\n",
      "19 é um número primo\n",
      "23 é um número primo\n",
      "29 é um número primo\n",
      "Wall time: 2 ms\n"
     ]
    }
   ],
   "source": [
    "%%time\n",
    "\n",
    "for i in range(2,31):\n",
    "    \n",
    "    j = 2\n",
    "    \n",
    "    \n",
    "    valor = 0\n",
    "    \n",
    "    while j<i:\n",
    "\n",
    "        if i % j ==0:\n",
    "            valor = 1\n",
    "            j = j + 1\n",
    "        else:\n",
    "            j = j + 1\n",
    "            \n",
    "    if valor == 0:\n",
    "        print(str(i) + ' é um número primo')\n",
    "        valor = 0\n",
    "    else:\n",
    "        valor = 0"
   ]
  },
  {
   "cell_type": "code",
   "execution_count": null,
   "id": "78181e1f",
   "metadata": {},
   "outputs": [],
   "source": []
  }
 ],
 "metadata": {
  "kernelspec": {
   "display_name": "Python 3 (ipykernel)",
   "language": "python",
   "name": "python3"
  },
  "language_info": {
   "codemirror_mode": {
    "name": "ipython",
    "version": 3
   },
   "file_extension": ".py",
   "mimetype": "text/x-python",
   "name": "python",
   "nbconvert_exporter": "python",
   "pygments_lexer": "ipython3",
   "version": "3.9.13"
  }
 },
 "nbformat": 4,
 "nbformat_minor": 5
}
