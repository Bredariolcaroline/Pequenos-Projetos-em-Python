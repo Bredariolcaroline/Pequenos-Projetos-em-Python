{
 "cells": [
  {
   "cell_type": "code",
   "execution_count": 2,
   "id": "15081f40",
   "metadata": {},
   "outputs": [
    {
     "name": "stdout",
     "output_type": "stream",
     "text": [
      "Requirement already satisfied: phonenumbers in c:\\users\\carol\\anaconda3\\lib\\site-packages (8.13.7)\n"
     ]
    },
    {
     "name": "stderr",
     "output_type": "stream",
     "text": [
      "WARNING: Ignoring invalid distribution -rotobuf (c:\\users\\carol\\anaconda3\\lib\\site-packages)\n",
      "WARNING: Ignoring invalid distribution -rotobuf (c:\\users\\carol\\anaconda3\\lib\\site-packages)\n",
      "WARNING: Ignoring invalid distribution -rotobuf (c:\\users\\carol\\anaconda3\\lib\\site-packages)\n",
      "WARNING: Ignoring invalid distribution -rotobuf (c:\\users\\carol\\anaconda3\\lib\\site-packages)\n",
      "WARNING: Ignoring invalid distribution -rotobuf (c:\\users\\carol\\anaconda3\\lib\\site-packages)\n",
      "WARNING: Ignoring invalid distribution -rotobuf (c:\\users\\carol\\anaconda3\\lib\\site-packages)\n"
     ]
    }
   ],
   "source": [
    "!pip install phonenumbers\n",
    "import phonenumbers\n",
    "from phonenumbers import geocoder,carrier\n",
    "import warnings\n",
    "warnings.filterwarnings('ignore')"
   ]
  },
  {
   "cell_type": "code",
   "execution_count": 6,
   "id": "95c31dfc",
   "metadata": {},
   "outputs": [
    {
     "name": "stdout",
     "output_type": "stream",
     "text": [
      "A operadora é:TIM\n",
      "O estado é:São Paulo\n"
     ]
    }
   ],
   "source": [
    "phoneNumer =  phonenumbers.parse('coloque o número aqui no formato + código do país código do estado e o número')\n",
    "\n",
    "Carrier = carrier.name_for_number(phoneNumer, 'pt-br')\n",
    "\n",
    "Region = geocoder.description_for_number(phoneNumer,'pt-br')\n",
    "\n",
    "print('A operadora é:' + Carrier)\n",
    "\n",
    "print('O estado é:' + Region)"
   ]
  },
  {
   "cell_type": "code",
   "execution_count": null,
   "id": "6ae56099",
   "metadata": {},
   "outputs": [],
   "source": []
  }
 ],
 "metadata": {
  "kernelspec": {
   "display_name": "Python 3 (ipykernel)",
   "language": "python",
   "name": "python3"
  },
  "language_info": {
   "codemirror_mode": {
    "name": "ipython",
    "version": 3
   },
   "file_extension": ".py",
   "mimetype": "text/x-python",
   "name": "python",
   "nbconvert_exporter": "python",
   "pygments_lexer": "ipython3",
   "version": "3.9.13"
  }
 },
 "nbformat": 4,
 "nbformat_minor": 5
}
