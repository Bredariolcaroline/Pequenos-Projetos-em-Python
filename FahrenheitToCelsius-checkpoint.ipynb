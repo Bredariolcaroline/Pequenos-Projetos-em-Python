{
 "cells": [
  {
   "cell_type": "code",
   "execution_count": 1,
   "id": "b1ae08b8",
   "metadata": {},
   "outputs": [
    {
     "name": "stdout",
     "output_type": "stream",
     "text": [
      "Enter the temperature in Fahrenheit:95\n",
      "95.0 Fahrenheit in celsius is 35.0\n"
     ]
    }
   ],
   "source": [
    "far = float(input('Enter the temperature in Fahrenheit:'))\n",
    "cel = (far - 32) * 5/9\n",
    "print(far, 'Fahrenheit in celsius is', cel)"
   ]
  },
  {
   "cell_type": "code",
   "execution_count": 4,
   "id": "998488ed",
   "metadata": {},
   "outputs": [
    {
     "name": "stdout",
     "output_type": "stream",
     "text": [
      "Enter a number:25\n",
      "Enter another number:36\n",
      "61\n",
      "The sum of {25} {36} is 61\n"
     ]
    }
   ],
   "source": [
    "num_1 = int(input('Enter a number:'))\n",
    "num_2 = int(input('Enter another number:'))\n",
    "sum = num_1 + num_2\n",
    "\n",
    "print(sum)\n",
    "print('The sum of', {num_1} and {num_2}, 'is', sum)"
   ]
  },
  {
   "cell_type": "code",
   "execution_count": 3,
   "id": "078886dc",
   "metadata": {},
   "outputs": [
    {
     "name": "stdout",
     "output_type": "stream",
     "text": [
      "Enter a number:10\n",
      "Enter another number:5\n",
      "50\n"
     ]
    }
   ],
   "source": [
    "num_1 = int(input('Enter a number:'))\n",
    "num_2 = int(input('Enter another number:'))\n",
    "product = num_1 * num_2\n",
    "\n",
    "print(product)"
   ]
  },
  {
   "cell_type": "code",
   "execution_count": null,
   "id": "81d79dd2",
   "metadata": {},
   "outputs": [],
   "source": []
  }
 ],
 "metadata": {
  "kernelspec": {
   "display_name": "Python 3 (ipykernel)",
   "language": "python",
   "name": "python3"
  },
  "language_info": {
   "codemirror_mode": {
    "name": "ipython",
    "version": 3
   },
   "file_extension": ".py",
   "mimetype": "text/x-python",
   "name": "python",
   "nbconvert_exporter": "python",
   "pygments_lexer": "ipython3",
   "version": "3.9.13"
  }
 },
 "nbformat": 4,
 "nbformat_minor": 5
}
