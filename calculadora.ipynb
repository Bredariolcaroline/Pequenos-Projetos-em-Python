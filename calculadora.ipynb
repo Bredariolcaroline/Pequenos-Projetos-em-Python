{
 "cells": [
  {
   "cell_type": "code",
   "execution_count": 1,
   "id": "5b96882f",
   "metadata": {},
   "outputs": [],
   "source": [
    "def add(x,y):\n",
    "    return x + y\n",
    "\n",
    "def subtract(x,y):\n",
    "    return x - y\n",
    "\n",
    "def multiply(x,y):\n",
    "    return x * y\n",
    "\n",
    "def divide(x,y):\n",
    "    return x / y"
   ]
  },
  {
   "cell_type": "code",
   "execution_count": 4,
   "id": "0f27505b",
   "metadata": {},
   "outputs": [
    {
     "name": "stdout",
     "output_type": "stream",
     "text": [
      "Selecione o número da operação desejada:\n",
      "1 - Soma\n",
      "2 - Subtração\n",
      "3 - Multiplicação\n",
      "4 - Divisão\n",
      "\n",
      "Digite sua opção: (1/2/3/4):1\n",
      "Digite o primeiro número: 23\n",
      "Digite o segundo número:45\n",
      "23 + 45 = 68\n"
     ]
    }
   ],
   "source": [
    "print('Selecione o número da operação desejada:')\n",
    "print('1 - Soma')\n",
    "print('2 - Subtração')\n",
    "print('3 - Multiplicação')\n",
    "print('4 - Divisão')\n",
    "\n",
    "choice = input('\\nDigite sua opção: (1/2/3/4):')\n",
    "\n",
    "num1 = int(input('Digite o primeiro número: '))\n",
    "num2 = int(input('Digite o segundo número:'))\n",
    "\n",
    "if choice == '1':\n",
    "    print(num1,'+', num2, '=', add(num1,num2))\n",
    "\n",
    "elif choice == '2':\n",
    "    print(num1,'-', num2, '=', subtract(num1,num2))\n",
    "    \n",
    "elif choice == '3':\n",
    "    print(num1,'*', num2, '=', multiply(num1,num2))\n",
    "    \n",
    "elif choice == '4':\n",
    "    print(num1,'/', num2, '=', divide(num1,num2))\n",
    "    \n",
    "else:\n",
    "    print('Operação Inválida')"
   ]
  },
  {
   "cell_type": "code",
   "execution_count": null,
   "id": "a4f4d775",
   "metadata": {},
   "outputs": [],
   "source": []
  }
 ],
 "metadata": {
  "kernelspec": {
   "display_name": "Python 3 (ipykernel)",
   "language": "python",
   "name": "python3"
  },
  "language_info": {
   "codemirror_mode": {
    "name": "ipython",
    "version": 3
   },
   "file_extension": ".py",
   "mimetype": "text/x-python",
   "name": "python",
   "nbconvert_exporter": "python",
   "pygments_lexer": "ipython3",
   "version": "3.11.3"
  }
 },
 "nbformat": 4,
 "nbformat_minor": 5
}
